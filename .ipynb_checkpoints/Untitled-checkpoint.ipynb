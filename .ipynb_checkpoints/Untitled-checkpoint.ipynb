{
 "cells": [
  {
   "cell_type": "code",
   "execution_count": 2,
   "metadata": {},
   "outputs": [],
   "source": [
    "from scipy.stats import norm\n",
    "from scipy import stats\n",
    "import numpy as np\n",
    "import matplotlib.pyplot as plt\n",
    "%matplotlib inline"
   ]
  },
  {
   "cell_type": "code",
   "execution_count": 3,
   "metadata": {
    "scrolled": true
   },
   "outputs": [
    {
     "data": {
      "text/plain": [
       "array([ 0.55103719, -2.25581772,  0.78253494, -0.09530248,  0.03224749,\n",
       "       -1.36283301, -1.29371575,  1.48223487,  0.99804491, -0.55714697,\n",
       "       -0.16992705,  0.38052948,  0.64197392, -0.25271756,  0.67089929,\n",
       "       -0.28954275, -2.04518993,  0.11456695,  0.43118641,  0.78231692,\n",
       "        1.57620347,  0.61194454,  1.05034125, -0.40227544, -0.86372502,\n",
       "       -0.01703769,  0.62748202, -0.92876877, -0.02799396, -0.46635524,\n",
       "       -0.43523266,  1.533357  , -0.72630097,  0.05480544,  0.81613176,\n",
       "        0.16275028,  0.14656569, -0.41211743,  1.62803019,  0.44243522,\n",
       "        0.67732886, -0.1874443 , -1.0852759 ,  1.66388635, -1.38195018,\n",
       "        0.31155842,  1.40946535,  1.04968679, -0.86435963, -1.30871134,\n",
       "        0.7688634 , -0.31343006,  2.01317596,  0.03262386,  1.00738146,\n",
       "       -0.95111443,  0.10665968,  0.19599547,  1.74333572,  0.23155086,\n",
       "        0.39187508, -1.29121496,  0.18967907, -0.10841243,  0.78212421,\n",
       "       -0.33644157, -1.19599847, -0.62280691,  0.47876124,  1.43679965,\n",
       "        0.03155585,  0.44172419,  0.81516929,  1.49821513, -0.58374015,\n",
       "        0.393167  ,  0.29966647, -0.88515077,  0.38392769,  1.02621553,\n",
       "       -1.05212637,  0.21183978, -0.99049233, -0.11308581, -1.3330713 ,\n",
       "       -0.891263  ,  0.82953915, -0.09607079, -0.08772923, -0.33445533,\n",
       "        0.99447822, -1.33465335, -0.4581821 ,  1.43165317,  0.26903285,\n",
       "       -1.47079578,  0.39674893, -1.14998157,  0.06269733, -1.18514289])"
      ]
     },
     "execution_count": 3,
     "metadata": {},
     "output_type": "execute_result"
    }
   ],
   "source": [
    "R = norm.rvs(size=100)\n",
    "R"
   ]
  },
  {
   "cell_type": "code",
   "execution_count": 9,
   "metadata": {},
   "outputs": [
    {
     "name": "stderr",
     "output_type": "stream",
     "text": [
      "C:\\MyProgram\\Anaconda3\\lib\\site-packages\\ipykernel_launcher.py:7: MatplotlibDeprecationWarning: \n",
      "The 'normed' kwarg was deprecated in Matplotlib 2.1 and will be removed in 3.1. Use 'density' instead.\n",
      "  import sys\n"
     ]
    },
    {
     "data": {
      "text/plain": [
       "(array([1.2441049 , 0.        , 0.        , 1.2441049 , 0.        ,\n",
       "        2.4882098 , 1.2441049 , 1.2441049 , 1.2441049 , 2.4882098 ,\n",
       "        2.4882098 , 1.2441049 , 1.2441049 , 3.73231471, 6.22052451,\n",
       "        1.2441049 , 6.22052451, 2.4882098 , 4.97641961, 1.2441049 ,\n",
       "        2.4882098 , 3.73231471, 0.        , 2.4882098 , 1.2441049 ,\n",
       "        3.73231471, 1.2441049 , 1.2441049 , 1.2441049 , 2.4882098 ]),\n",
       " array([6.74470102, 6.76077683, 6.77685265, 6.79292846, 6.80900428,\n",
       "        6.82508009, 6.84115591, 6.85723172, 6.87330754, 6.88938335,\n",
       "        6.90545917, 6.92153498, 6.9376108 , 6.95368661, 6.96976243,\n",
       "        6.98583824, 7.00191406, 7.01798987, 7.03406568, 7.0501415 ,\n",
       "        7.06621731, 7.08229313, 7.09836894, 7.11444476, 7.13052057,\n",
       "        7.14659639, 7.1626722 , 7.17874802, 7.19482383, 7.21089965,\n",
       "        7.22697546]),\n",
       " <a list of 30 Patch objects>)"
      ]
     },
     "execution_count": 9,
     "metadata": {},
     "output_type": "execute_result"
    },
    {
     "data": {
      "image/png": "[encoded data removed]",
      "text/plain": [
       "<Figure size 432x288 with 1 Axes>"
      ]
     },
     "metadata": {
      "needs_background": "light"
     },
     "output_type": "display_data"
    }
   ],
   "source": [
    "mu = 7\n",
    "sigma = 1\n",
    "sampleNo = 50\n",
    "np.random.seed(0)\n",
    "s = np.random.normal(mu, sigma, sampleNo )\n",
    "plt.subplot(141)\n",
    "plt.hist(s, 30, normed=True)\n"
   ]
  },
  {
   "cell_type": "code",
   "execution_count": 8,
   "metadata": {},
   "outputs": [
    {
     "data": {
      "text/plain": [
       "(50,)"
      ]
     },
     "execution_count": 8,
     "metadata": {},
     "output_type": "execute_result"
    }
   ],
   "source": [
    "s.shape"
   ]
  }
 ],
 "metadata": {
  "kernelspec": {
   "display_name": "Python 3",
   "language": "python",
   "name": "python3"
  },
  "language_info": {
   "codemirror_mode": {
    "name": "ipython",
    "version": 3
   },
   "file_extension": ".py",
   "mimetype": "text/x-python",
   "name": "python",
   "nbconvert_exporter": "python",
   "pygments_lexer": "ipython3",
   "version": "3.7.3"
  }
 },
 "nbformat": 4,
 "nbformat_minor": 2
}
